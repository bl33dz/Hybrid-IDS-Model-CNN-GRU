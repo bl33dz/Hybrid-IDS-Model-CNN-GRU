{
 "cells": [
  {
   "cell_type": "markdown",
   "id": "b419ad3f-98ee-42d1-9cc8-ad006d53b3ab",
   "metadata": {},
   "source": [
    "# Install Required Packages"
   ]
  },
  {
   "cell_type": "code",
   "execution_count": 1,
   "id": "59893dd5-2bb9-4a0f-861f-306ea0c2f7d0",
   "metadata": {},
   "outputs": [
    {
     "name": "stdout",
     "output_type": "stream",
     "text": [
      "\n",
      "\u001b[1m[\u001b[0m\u001b[34;49mnotice\u001b[0m\u001b[1;39;49m]\u001b[0m\u001b[39;49m A new release of pip is available: \u001b[0m\u001b[31;49m24.0\u001b[0m\u001b[39;49m -> \u001b[0m\u001b[32;49m25.1.1\u001b[0m\n",
      "\u001b[1m[\u001b[0m\u001b[34;49mnotice\u001b[0m\u001b[1;39;49m]\u001b[0m\u001b[39;49m To update, run: \u001b[0m\u001b[32;49mpip install --upgrade pip\u001b[0m\n"
     ]
    }
   ],
   "source": [
    "!pip install -q scikit-learn tensorflow pandas numpy matplotlib seaborn"
   ]
  },
  {
   "cell_type": "markdown",
   "id": "23fd9429-04e7-4786-bb36-85dce8c8478a",
   "metadata": {},
   "source": [
    "# Import Libraries"
   ]
  },
  {
   "cell_type": "code",
   "execution_count": 2,
   "id": "8b313dd8-c177-4829-bbd5-5f0d8e61d352",
   "metadata": {},
   "outputs": [
    {
     "name": "stderr",
     "output_type": "stream",
     "text": [
      "2025-07-16 04:40:10.919832: E external/local_xla/xla/stream_executor/cuda/cuda_fft.cc:467] Unable to register cuFFT factory: Attempting to register factory for plugin cuFFT when one has already been registered\n",
      "WARNING: All log messages before absl::InitializeLog() is called are written to STDERR\n",
      "E0000 00:00:1752615610.941574   33690 cuda_dnn.cc:8579] Unable to register cuDNN factory: Attempting to register factory for plugin cuDNN when one has already been registered\n",
      "E0000 00:00:1752615610.948384   33690 cuda_blas.cc:1407] Unable to register cuBLAS factory: Attempting to register factory for plugin cuBLAS when one has already been registered\n",
      "W0000 00:00:1752615610.966572   33690 computation_placer.cc:177] computation placer already registered. Please check linkage and avoid linking the same target more than once.\n",
      "W0000 00:00:1752615610.966594   33690 computation_placer.cc:177] computation placer already registered. Please check linkage and avoid linking the same target more than once.\n",
      "W0000 00:00:1752615610.966597   33690 computation_placer.cc:177] computation placer already registered. Please check linkage and avoid linking the same target more than once.\n",
      "W0000 00:00:1752615610.966599   33690 computation_placer.cc:177] computation placer already registered. Please check linkage and avoid linking the same target more than once.\n",
      "2025-07-16 04:40:10.972447: I tensorflow/core/platform/cpu_feature_guard.cc:210] This TensorFlow binary is optimized to use available CPU instructions in performance-critical operations.\n",
      "To enable the following instructions: AVX2 FMA, in other operations, rebuild TensorFlow with the appropriate compiler flags.\n"
     ]
    }
   ],
   "source": [
    "import pandas as pd\n",
    "import numpy as np\n",
    "import re\n",
    "import matplotlib.pyplot as plt\n",
    "import seaborn as sns\n",
    "from sklearn.model_selection import train_test_split\n",
    "from sklearn.metrics import classification_report, confusion_matrix, ConfusionMatrixDisplay\n",
    "from sklearn.utils.class_weight import compute_class_weight\n",
    "from tensorflow.keras.preprocessing.text import Tokenizer\n",
    "from tensorflow.keras.preprocessing.sequence import pad_sequences\n",
    "from tensorflow.keras.models import Sequential\n",
    "from tensorflow.keras.layers import Embedding, Conv1D, MaxPooling1D, GRU, Dense\n",
    "from tensorflow.keras.callbacks import EarlyStopping"
   ]
  },
  {
   "cell_type": "markdown",
   "id": "0848f58f-1cca-4e95-8314-e05976110fb3",
   "metadata": {},
   "source": [
    "# Load and Preprocess Train Data"
   ]
  },
  {
   "cell_type": "code",
   "execution_count": 3,
   "id": "da0a618d-b152-4560-b9a7-2bb3619aa280",
   "metadata": {},
   "outputs": [
    {
     "name": "stdout",
     "output_type": "stream",
     "text": [
      "Train label distribution: {0.0: 46676, 1.0: 46634}\n"
     ]
    }
   ],
   "source": [
    "df = pd.read_csv(\"../data/Train_augmented.csv\", engine=\"python\")\n",
    "df['Query'] = df['Query'].astype(str).str.lower().str.strip()\n",
    "df = df.drop_duplicates()\n",
    "df = df.dropna(subset=[\"Label\"])\n",
    "\n",
    "print(\"Train label distribution:\", df[\"Label\"].value_counts().to_dict())"
   ]
  },
  {
   "cell_type": "markdown",
   "id": "70d5a0ce-42f6-4813-8cd2-cf24085124a8",
   "metadata": {},
   "source": [
    "# SQL Tokenizer"
   ]
  },
  {
   "cell_type": "code",
   "execution_count": 4,
   "id": "0b15a28f-ff48-47c9-9955-389a2240c3b6",
   "metadata": {},
   "outputs": [],
   "source": [
    "def sql_tokenize(query):\n",
    "    return re.findall(r\"[a-zA-Z_]+|[0-9]+|['\\\"].*?['\\\"]|[^\\s\\w]\", query)\n",
    "\n",
    "df[\"tokens\"] = df[\"Query\"].apply(sql_tokenize)\n",
    "df[\"joined_tokens\"] = df[\"tokens\"].apply(lambda x: \" \".join(x))"
   ]
  },
  {
   "cell_type": "markdown",
   "id": "fb3263de-3d63-42fa-8846-0b30677aa935",
   "metadata": {},
   "source": [
    "# Tokenize & Pad"
   ]
  },
  {
   "cell_type": "code",
   "execution_count": 5,
   "id": "0a6d9940-e2b5-431d-bfa1-22a61b75891e",
   "metadata": {},
   "outputs": [],
   "source": [
    "VOCAB_SIZE = 2000\n",
    "MAX_LEN = 64\n",
    "tokenizer = Tokenizer(num_words=VOCAB_SIZE, oov_token=\"<OOV>\")\n",
    "tokenizer.fit_on_texts(df[\"joined_tokens\"])\n",
    "\n",
    "# Train set\n",
    "X_train_seq = tokenizer.texts_to_sequences(df[\"joined_tokens\"])\n",
    "X_train = pad_sequences(X_train_seq, maxlen=MAX_LEN, padding=\"post\", truncating=\"post\")\n",
    "y_train = df[\"Label\"].astype(int).values"
   ]
  },
  {
   "cell_type": "markdown",
   "id": "15271443-16f0-4e20-869f-dce409f604da",
   "metadata": {},
   "source": [
    "# Load Test Data"
   ]
  },
  {
   "cell_type": "code",
   "execution_count": 6,
   "id": "3a51839b-e252-468f-98b7-ffe35bb04679",
   "metadata": {},
   "outputs": [],
   "source": [
    "test_df = pd.read_csv(\"../data/Test_augmented.csv\")\n",
    "test_df['Query'] = test_df['Query'].astype(str).str.lower().str.strip()\n",
    "test_df = test_df.dropna(subset=[\"Label\"])\n",
    "test_df[\"tokens\"] = test_df[\"Query\"].apply(sql_tokenize)\n",
    "test_df[\"joined_tokens\"] = test_df[\"tokens\"].apply(lambda x: \" \".join(x))\n",
    "X_test_seq = tokenizer.texts_to_sequences(test_df[\"joined_tokens\"])\n",
    "X_test = pad_sequences(X_test_seq, maxlen=MAX_LEN, padding=\"post\")\n",
    "y_test = test_df[\"Label\"].astype(int).values"
   ]
  },
  {
   "cell_type": "markdown",
   "id": "33d1f9ca-af44-44e1-90b0-744559ea199e",
   "metadata": {},
   "source": [
    "# Training Model"
   ]
  },
  {
   "cell_type": "code",
   "execution_count": 7,
   "id": "34911d0d-da5b-4def-9f4f-f3ac2c6cb4fc",
   "metadata": {},
   "outputs": [
    {
     "name": "stderr",
     "output_type": "stream",
     "text": [
      "/home/bz/.pyenv/versions/3.11.13/lib/python3.11/site-packages/keras/src/layers/core/embedding.py:97: UserWarning: Argument `input_length` is deprecated. Just remove it.\n",
      "  warnings.warn(\n",
      "I0000 00:00:1752615624.435372   33690 gpu_device.cc:2019] Created device /job:localhost/replica:0/task:0/device:GPU:0 with 4068 MB memory:  -> device: 0, name: NVIDIA GeForce RTX 3060 Laptop GPU, pci bus id: 0000:01:00.0, compute capability: 8.6\n"
     ]
    },
    {
     "name": "stdout",
     "output_type": "stream",
     "text": [
      "Epoch 1/10\n"
     ]
    },
    {
     "name": "stderr",
     "output_type": "stream",
     "text": [
      "I0000 00:00:1752615626.675580   33856 cuda_dnn.cc:529] Loaded cuDNN version 91002\n"
     ]
    },
    {
     "name": "stdout",
     "output_type": "stream",
     "text": [
      "\u001b[1m2916/2916\u001b[0m \u001b[32m━━━━━━━━━━━━━━━━━━━━\u001b[0m\u001b[37m\u001b[0m \u001b[1m28s\u001b[0m 9ms/step - accuracy: 0.9292 - loss: 0.1695 - val_accuracy: 0.9724 - val_loss: 0.0826\n",
      "Epoch 2/10\n",
      "\u001b[1m2916/2916\u001b[0m \u001b[32m━━━━━━━━━━━━━━━━━━━━\u001b[0m\u001b[37m\u001b[0m \u001b[1m25s\u001b[0m 9ms/step - accuracy: 0.9775 - loss: 0.0703 - val_accuracy: 0.9714 - val_loss: 0.0851\n",
      "Epoch 3/10\n",
      "\u001b[1m2916/2916\u001b[0m \u001b[32m━━━━━━━━━━━━━━━━━━━━\u001b[0m\u001b[37m\u001b[0m \u001b[1m25s\u001b[0m 9ms/step - accuracy: 0.9800 - loss: 0.0600 - val_accuracy: 0.9733 - val_loss: 0.0824\n",
      "Epoch 4/10\n",
      "\u001b[1m2916/2916\u001b[0m \u001b[32m━━━━━━━━━━━━━━━━━━━━\u001b[0m\u001b[37m\u001b[0m \u001b[1m24s\u001b[0m 8ms/step - accuracy: 0.9813 - loss: 0.0527 - val_accuracy: 0.9710 - val_loss: 0.0898\n",
      "Epoch 5/10\n",
      "\u001b[1m2916/2916\u001b[0m \u001b[32m━━━━━━━━━━━━━━━━━━━━\u001b[0m\u001b[37m\u001b[0m \u001b[1m25s\u001b[0m 9ms/step - accuracy: 0.9832 - loss: 0.0462 - val_accuracy: 0.9724 - val_loss: 0.1026\n",
      "Epoch 6/10\n",
      "\u001b[1m2916/2916\u001b[0m \u001b[32m━━━━━━━━━━━━━━━━━━━━\u001b[0m\u001b[37m\u001b[0m \u001b[1m25s\u001b[0m 9ms/step - accuracy: 0.9860 - loss: 0.0388 - val_accuracy: 0.9679 - val_loss: 0.1060\n"
     ]
    },
    {
     "data": {
      "text/plain": [
       "<keras.src.callbacks.history.History at 0x7fe61e376e90>"
      ]
     },
     "execution_count": 7,
     "metadata": {},
     "output_type": "execute_result"
    }
   ],
   "source": [
    "# ⚖️ Class Weights\n",
    "class_weights = compute_class_weight(class_weight='balanced', classes=np.unique(y_train), y=y_train)\n",
    "class_weights = dict(enumerate(class_weights))\n",
    "\n",
    "model = Sequential([\n",
    "    Embedding(input_dim=VOCAB_SIZE, output_dim=128, input_length=MAX_LEN),\n",
    "    Conv1D(64, 3, activation=\"relu\"),\n",
    "    MaxPooling1D(pool_size=2),\n",
    "    GRU(64),\n",
    "    Dense(1, activation=\"sigmoid\")\n",
    "])\n",
    "model.compile(loss=\"binary_crossentropy\", optimizer=\"adam\", metrics=[\"accuracy\"])\n",
    "model.fit(X_train, y_train, validation_data=(X_test, y_test), epochs=10, batch_size=32,\n",
    "          class_weight=class_weights, callbacks=[EarlyStopping(patience=3, restore_best_weights=True)])"
   ]
  },
  {
   "cell_type": "markdown",
   "id": "9dd0b5e4-14c8-4286-aca0-3cd940899f8c",
   "metadata": {},
   "source": [
    "# Evaluation on Test.csv"
   ]
  },
  {
   "cell_type": "code",
   "execution_count": 8,
   "id": "d6ed815d-4415-46b0-8d60-33dee47f2fbb",
   "metadata": {},
   "outputs": [
    {
     "name": "stdout",
     "output_type": "stream",
     "text": [
      "\u001b[1m969/969\u001b[0m \u001b[32m━━━━━━━━━━━━━━━━━━━━\u001b[0m\u001b[37m\u001b[0m \u001b[1m3s\u001b[0m 3ms/step\n",
      "Evaluation on Test.csv\n",
      "              precision    recall  f1-score   support\n",
      "\n",
      "           0       0.96      0.99      0.97     15494\n",
      "           1       0.99      0.96      0.97     15494\n",
      "\n",
      "    accuracy                           0.97     30988\n",
      "   macro avg       0.97      0.97      0.97     30988\n",
      "weighted avg       0.97      0.97      0.97     30988\n",
      "\n",
      "[[15347   147]\n",
      " [  680 14814]]\n"
     ]
    },
    {
     "data": {
      "image/png": "[encoded data removed]",
      "text/plain": [
       "<Figure size 600x500 with 2 Axes>"
      ]
     },
     "metadata": {},
     "output_type": "display_data"
    }
   ],
   "source": [
    "y_test_pred = model.predict(X_test).round()\n",
    "print(\"Evaluation on Test.csv\")\n",
    "print(classification_report(y_test, y_test_pred))\n",
    "# print(confusion_matrix(y_test, y_test_pred))\n",
    "\n",
    "cm = confusion_matrix(y_test, y_test_pred)\n",
    "\n",
    "print(cm)\n",
    "\n",
    "# Visualisasi Confusion Matrix\n",
    "plt.figure(figsize=(6, 5))\n",
    "sns.heatmap(cm, annot=True, fmt='d', cmap='Blues', \n",
    "            xticklabels=[\"Benign (0)\", \"Malicious (1)\"],\n",
    "            yticklabels=[\"Benign (0)\", \"Malicious (1)\"])\n",
    "plt.xlabel(\"Predicted Label\")\n",
    "plt.ylabel(\"True Label\")\n",
    "plt.title(\"Confusion Matrix on Test.csv\")\n",
    "plt.tight_layout()\n",
    "plt.show()"
   ]
  },
  {
   "cell_type": "markdown",
   "id": "ace64fb7-7583-4ebf-956b-9c066b88d11b",
   "metadata": {},
   "source": [
    "# Evaluation on Validation.csv"
   ]
  },
  {
   "cell_type": "code",
   "execution_count": 9,
   "id": "8bc5d354-0068-4950-bb54-e5d38e6bc11f",
   "metadata": {},
   "outputs": [
    {
     "name": "stdout",
     "output_type": "stream",
     "text": [
      "\u001b[1m974/974\u001b[0m \u001b[32m━━━━━━━━━━━━━━━━━━━━\u001b[0m\u001b[37m\u001b[0m \u001b[1m2s\u001b[0m 2ms/step\n",
      "Evaluation on Validation.csv\n",
      "              precision    recall  f1-score   support\n",
      "\n",
      "           0       0.95      0.99      0.97     15572\n",
      "           1       0.99      0.95      0.97     15572\n",
      "\n",
      "    accuracy                           0.97     31144\n",
      "   macro avg       0.97      0.97      0.97     31144\n",
      "weighted avg       0.97      0.97      0.97     31144\n",
      "\n",
      "[[15437   135]\n",
      " [  759 14813]]\n"
     ]
    }
   ],
   "source": [
    "eval_df = pd.read_csv(\"../data/Validation_augmented.csv\")\n",
    "eval_df['Query'] = eval_df['Query'].astype(str).str.lower().str.strip()\n",
    "eval_df = eval_df.dropna(subset=[\"Label\"])\n",
    "eval_df[\"tokens\"] = eval_df[\"Query\"].apply(sql_tokenize)\n",
    "eval_df[\"joined_tokens\"] = eval_df[\"tokens\"].apply(lambda x: \" \".join(x))\n",
    "X_eval_seq = tokenizer.texts_to_sequences(eval_df[\"joined_tokens\"])\n",
    "X_eval = pad_sequences(X_eval_seq, maxlen=MAX_LEN, padding=\"post\")\n",
    "y_eval = eval_df[\"Label\"].astype(int).values\n",
    "\n",
    "y_eval_pred = model.predict(X_eval).round()\n",
    "print(\"Evaluation on Validation.csv\")\n",
    "print(classification_report(y_eval, y_eval_pred))\n",
    "print(confusion_matrix(y_eval, y_eval_pred))"
   ]
  },
  {
   "cell_type": "markdown",
   "id": "2858ca54-b099-4336-9662-204f351df0dc",
   "metadata": {},
   "source": [
    "# Save Model for Implementation"
   ]
  },
  {
   "cell_type": "code",
   "execution_count": 10,
   "id": "ba99bb0e-b018-4ecf-8ab8-96d6a2378a40",
   "metadata": {},
   "outputs": [],
   "source": [
    "# Save the trained model\n",
    "model.save(\"../models/cnn_gru_model.keras\")\n",
    "\n",
    "# Save the tokenizer\n",
    "import pickle\n",
    "with open(\"../models/tokenizer.pkl\", \"wb\") as f:\n",
    "   pickle.dump(tokenizer, f)"
   ]
  },
  {
   "cell_type": "code",
   "execution_count": 11,
   "id": "3b2d8dd8-31cb-4930-882a-328de1e38b0a",
   "metadata": {},
   "outputs": [
    {
     "data": {
      "text/html": [
       "<pre style=\"white-space:pre;overflow-x:auto;line-height:normal;font-family:Menlo,'DejaVu Sans Mono',consolas,'Courier New',monospace\"><span style=\"font-weight: bold\">Model: \"sequential\"</span>\n",
       "</pre>\n"
      ],
      "text/plain": [
       "\u001b[1mModel: \"sequential\"\u001b[0m\n"
      ]
     },
     "metadata": {},
     "output_type": "display_data"
    },
    {
     "data": {
      "text/html": [
       "<pre style=\"white-space:pre;overflow-x:auto;line-height:normal;font-family:Menlo,'DejaVu Sans Mono',consolas,'Courier New',monospace\">┏━━━━━━━━━━━━━━━━━━━━━━━━━━━━━━━━━┳━━━━━━━━━━━━━━━━━━━━━━━━┳━━━━━━━━━━━━━━━┓\n",
       "┃<span style=\"font-weight: bold\"> Layer (type)                    </span>┃<span style=\"font-weight: bold\"> Output Shape           </span>┃<span style=\"font-weight: bold\">       Param # </span>┃\n",
       "┡━━━━━━━━━━━━━━━━━━━━━━━━━━━━━━━━━╇━━━━━━━━━━━━━━━━━━━━━━━━╇━━━━━━━━━━━━━━━┩\n",
       "│ embedding (<span style=\"color: #0087ff; text-decoration-color: #0087ff\">Embedding</span>)           │ (<span style=\"color: #00d7ff; text-decoration-color: #00d7ff\">None</span>, <span style=\"color: #00af00; text-decoration-color: #00af00\">64</span>, <span style=\"color: #00af00; text-decoration-color: #00af00\">128</span>)        │       <span style=\"color: #00af00; text-decoration-color: #00af00\">256,000</span> │\n",
       "├─────────────────────────────────┼────────────────────────┼───────────────┤\n",
       "│ conv1d (<span style=\"color: #0087ff; text-decoration-color: #0087ff\">Conv1D</span>)                 │ (<span style=\"color: #00d7ff; text-decoration-color: #00d7ff\">None</span>, <span style=\"color: #00af00; text-decoration-color: #00af00\">62</span>, <span style=\"color: #00af00; text-decoration-color: #00af00\">64</span>)         │        <span style=\"color: #00af00; text-decoration-color: #00af00\">24,640</span> │\n",
       "├─────────────────────────────────┼────────────────────────┼───────────────┤\n",
       "│ max_pooling1d (<span style=\"color: #0087ff; text-decoration-color: #0087ff\">MaxPooling1D</span>)    │ (<span style=\"color: #00d7ff; text-decoration-color: #00d7ff\">None</span>, <span style=\"color: #00af00; text-decoration-color: #00af00\">31</span>, <span style=\"color: #00af00; text-decoration-color: #00af00\">64</span>)         │             <span style=\"color: #00af00; text-decoration-color: #00af00\">0</span> │\n",
       "├─────────────────────────────────┼────────────────────────┼───────────────┤\n",
       "│ gru (<span style=\"color: #0087ff; text-decoration-color: #0087ff\">GRU</span>)                       │ (<span style=\"color: #00d7ff; text-decoration-color: #00d7ff\">None</span>, <span style=\"color: #00af00; text-decoration-color: #00af00\">64</span>)             │        <span style=\"color: #00af00; text-decoration-color: #00af00\">24,960</span> │\n",
       "├─────────────────────────────────┼────────────────────────┼───────────────┤\n",
       "│ dense (<span style=\"color: #0087ff; text-decoration-color: #0087ff\">Dense</span>)                   │ (<span style=\"color: #00d7ff; text-decoration-color: #00d7ff\">None</span>, <span style=\"color: #00af00; text-decoration-color: #00af00\">1</span>)              │            <span style=\"color: #00af00; text-decoration-color: #00af00\">65</span> │\n",
       "└─────────────────────────────────┴────────────────────────┴───────────────┘\n",
       "</pre>\n"
      ],
      "text/plain": [
       "┏━━━━━━━━━━━━━━━━━━━━━━━━━━━━━━━━━┳━━━━━━━━━━━━━━━━━━━━━━━━┳━━━━━━━━━━━━━━━┓\n",
       "┃\u001b[1m \u001b[0m\u001b[1mLayer (type)                   \u001b[0m\u001b[1m \u001b[0m┃\u001b[1m \u001b[0m\u001b[1mOutput Shape          \u001b[0m\u001b[1m \u001b[0m┃\u001b[1m \u001b[0m\u001b[1m      Param #\u001b[0m\u001b[1m \u001b[0m┃\n",
       "┡━━━━━━━━━━━━━━━━━━━━━━━━━━━━━━━━━╇━━━━━━━━━━━━━━━━━━━━━━━━╇━━━━━━━━━━━━━━━┩\n",
       "│ embedding (\u001b[38;5;33mEmbedding\u001b[0m)           │ (\u001b[38;5;45mNone\u001b[0m, \u001b[38;5;34m64\u001b[0m, \u001b[38;5;34m128\u001b[0m)        │       \u001b[38;5;34m256,000\u001b[0m │\n",
       "├─────────────────────────────────┼────────────────────────┼───────────────┤\n",
       "│ conv1d (\u001b[38;5;33mConv1D\u001b[0m)                 │ (\u001b[38;5;45mNone\u001b[0m, \u001b[38;5;34m62\u001b[0m, \u001b[38;5;34m64\u001b[0m)         │        \u001b[38;5;34m24,640\u001b[0m │\n",
       "├─────────────────────────────────┼────────────────────────┼───────────────┤\n",
       "│ max_pooling1d (\u001b[38;5;33mMaxPooling1D\u001b[0m)    │ (\u001b[38;5;45mNone\u001b[0m, \u001b[38;5;34m31\u001b[0m, \u001b[38;5;34m64\u001b[0m)         │             \u001b[38;5;34m0\u001b[0m │\n",
       "├─────────────────────────────────┼────────────────────────┼───────────────┤\n",
       "│ gru (\u001b[38;5;33mGRU\u001b[0m)                       │ (\u001b[38;5;45mNone\u001b[0m, \u001b[38;5;34m64\u001b[0m)             │        \u001b[38;5;34m24,960\u001b[0m │\n",
       "├─────────────────────────────────┼────────────────────────┼───────────────┤\n",
       "│ dense (\u001b[38;5;33mDense\u001b[0m)                   │ (\u001b[38;5;45mNone\u001b[0m, \u001b[38;5;34m1\u001b[0m)              │            \u001b[38;5;34m65\u001b[0m │\n",
       "└─────────────────────────────────┴────────────────────────┴───────────────┘\n"
      ]
     },
     "metadata": {},
     "output_type": "display_data"
    },
    {
     "data": {
      "text/html": [
       "<pre style=\"white-space:pre;overflow-x:auto;line-height:normal;font-family:Menlo,'DejaVu Sans Mono',consolas,'Courier New',monospace\"><span style=\"font-weight: bold\"> Total params: </span><span style=\"color: #00af00; text-decoration-color: #00af00\">916,997</span> (3.50 MB)\n",
       "</pre>\n"
      ],
      "text/plain": [
       "\u001b[1m Total params: \u001b[0m\u001b[38;5;34m916,997\u001b[0m (3.50 MB)\n"
      ]
     },
     "metadata": {},
     "output_type": "display_data"
    },
    {
     "data": {
      "text/html": [
       "<pre style=\"white-space:pre;overflow-x:auto;line-height:normal;font-family:Menlo,'DejaVu Sans Mono',consolas,'Courier New',monospace\"><span style=\"font-weight: bold\"> Trainable params: </span><span style=\"color: #00af00; text-decoration-color: #00af00\">305,665</span> (1.17 MB)\n",
       "</pre>\n"
      ],
      "text/plain": [
       "\u001b[1m Trainable params: \u001b[0m\u001b[38;5;34m305,665\u001b[0m (1.17 MB)\n"
      ]
     },
     "metadata": {},
     "output_type": "display_data"
    },
    {
     "data": {
      "text/html": [
       "<pre style=\"white-space:pre;overflow-x:auto;line-height:normal;font-family:Menlo,'DejaVu Sans Mono',consolas,'Courier New',monospace\"><span style=\"font-weight: bold\"> Non-trainable params: </span><span style=\"color: #00af00; text-decoration-color: #00af00\">0</span> (0.00 B)\n",
       "</pre>\n"
      ],
      "text/plain": [
       "\u001b[1m Non-trainable params: \u001b[0m\u001b[38;5;34m0\u001b[0m (0.00 B)\n"
      ]
     },
     "metadata": {},
     "output_type": "display_data"
    },
    {
     "data": {
      "text/html": [
       "<pre style=\"white-space:pre;overflow-x:auto;line-height:normal;font-family:Menlo,'DejaVu Sans Mono',consolas,'Courier New',monospace\"><span style=\"font-weight: bold\"> Optimizer params: </span><span style=\"color: #00af00; text-decoration-color: #00af00\">611,332</span> (2.33 MB)\n",
       "</pre>\n"
      ],
      "text/plain": [
       "\u001b[1m Optimizer params: \u001b[0m\u001b[38;5;34m611,332\u001b[0m (2.33 MB)\n"
      ]
     },
     "metadata": {},
     "output_type": "display_data"
    }
   ],
   "source": [
    "model.summary()"
   ]
  }
 ],
 "metadata": {
  "kernelspec": {
   "display_name": "Python 3 (ipykernel)",
   "language": "python",
   "name": "python3"
  },
  "language_info": {
   "codemirror_mode": {
    "name": "ipython",
    "version": 3
   },
   "file_extension": ".py",
   "mimetype": "text/x-python",
   "name": "python",
   "nbconvert_exporter": "python",
   "pygments_lexer": "ipython3",
   "version": "3.11.13"
  }
 },
 "nbformat": 4,
 "nbformat_minor": 5
}
